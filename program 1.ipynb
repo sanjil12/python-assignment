{
 "cells": [
  {
   "cell_type": "code",
   "execution_count": 3,
   "metadata": {},
   "outputs": [
    {
     "name": "stdout",
     "output_type": "stream",
     "text": [
      "enter your name:sanjil\n",
      "enter your age:21\n",
      "age when sanjil become 100 years old is 2100\n",
      "enter number:5\n",
      "age when sanjil become 100 years old is 2100\n",
      "age when sanjil become 100 years old is 2100\n",
      "age when sanjil become 100 years old is 2100\n",
      "age when sanjil become 100 years old is 2100\n",
      "age when sanjil become 100 years old is 2100\n"
     ]
    }
   ],
   "source": [
    "from datetime import datetime\n",
    "name=input(\"enter your name:\")\n",
    "age=int(input(\"enter your age:\"))\n",
    "n=int(100-age+datetime.now().year)\n",
    "print(\"age when %s become 100 years old is %d\"%(name,n))\n",
    "n1=int(input(\"enter number:\"))\n",
    "for i in range(n1):\n",
    "    print(\"age when %s become 100 years old is %d\"%(name,n))\n"
   ]
  },
  {
   "cell_type": "code",
   "execution_count": null,
   "metadata": {},
   "outputs": [],
   "source": []
  }
 ],
 "metadata": {
  "kernelspec": {
   "display_name": "Python 3",
   "language": "python",
   "name": "python3"
  },
  "language_info": {
   "codemirror_mode": {
    "name": "ipython",
    "version": 3
   },
   "file_extension": ".py",
   "mimetype": "text/x-python",
   "name": "python",
   "nbconvert_exporter": "python",
   "pygments_lexer": "ipython3",
   "version": "3.7.3"
  }
 },
 "nbformat": 4,
 "nbformat_minor": 2
}
