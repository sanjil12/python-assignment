{
 "cells": [
  {
   "cell_type": "code",
   "execution_count": 2,
   "metadata": {},
   "outputs": [
    {
     "name": "stdout",
     "output_type": "stream",
     "text": [
      "1 2 2 2 2 4 5 6 7\n",
      "[1, 2, 2, 2, 2, 4, 5, 6, 7]\n"
     ]
    }
   ],
   "source": [
    "def removedup(l):\n",
    "    l1=[]\n",
    "    for i in l:\n",
    "        if i not in l1:\n",
    "            l1.append(int(i))\n",
    "    return l1\n",
    "l=[i for i in input().split(\" \")]\n",
    "print(removedup(l))"
   ]
  },
  {
   "cell_type": "code",
   "execution_count": 8,
   "metadata": {},
   "outputs": [
    {
     "name": "stdout",
     "output_type": "stream",
     "text": [
      "1 2 2 2 2 \n",
      "{1, 2}\n"
     ]
    }
   ],
   "source": [
    "def removedupset(s):\n",
    "    s1=set(())\n",
    "    for i in s:\n",
    "        if i not in s1:\n",
    "            s1.add(int(i))\n",
    "    return s1\n",
    "s=set((i for i in input().split()))\n",
    "type(s)\n",
    "print(removedupset(s))\n"
   ]
  },
  {
   "cell_type": "code",
   "execution_count": null,
   "metadata": {},
   "outputs": [],
   "source": []
  }
 ],
 "metadata": {
  "kernelspec": {
   "display_name": "Python 3",
   "language": "python",
   "name": "python3"
  },
  "language_info": {
   "codemirror_mode": {
    "name": "ipython",
    "version": 3
   },
   "file_extension": ".py",
   "mimetype": "text/x-python",
   "name": "python",
   "nbconvert_exporter": "python",
   "pygments_lexer": "ipython3",
   "version": "3.7.3"
  }
 },
 "nbformat": 4,
 "nbformat_minor": 2
}
